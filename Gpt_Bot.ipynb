{
  "nbformat": 4,
  "nbformat_minor": 0,
  "metadata": {
    "colab": {
      "provenance": []
    },
    "kernelspec": {
      "name": "python3",
      "display_name": "Python 3"
    },
    "language_info": {
      "name": "python"
    }
  },
  "cells": [
    {
      "cell_type": "code",
      "source": [
        "pip install telebot"
      ],
      "metadata": {
        "colab": {
          "base_uri": "https://localhost:8080/"
        },
        "id": "Dw2ZKT22gDJQ",
        "outputId": "a12dccb0-0ec2-4d5b-bc93-2193da39b06b"
      },
      "execution_count": null,
      "outputs": [
        {
          "output_type": "stream",
          "name": "stdout",
          "text": [
            "Looking in indexes: https://pypi.org/simple, https://us-python.pkg.dev/colab-wheels/public/simple/\n",
            "Requirement already satisfied: telebot in /usr/local/lib/python3.10/dist-packages (0.0.5)\n",
            "Requirement already satisfied: pyTelegramBotAPI in /usr/local/lib/python3.10/dist-packages (from telebot) (4.12.0)\n",
            "Requirement already satisfied: requests in /usr/local/lib/python3.10/dist-packages (from telebot) (2.27.1)\n",
            "Requirement already satisfied: urllib3<1.27,>=1.21.1 in /usr/local/lib/python3.10/dist-packages (from requests->telebot) (1.26.16)\n",
            "Requirement already satisfied: certifi>=2017.4.17 in /usr/local/lib/python3.10/dist-packages (from requests->telebot) (2023.5.7)\n",
            "Requirement already satisfied: charset-normalizer~=2.0.0 in /usr/local/lib/python3.10/dist-packages (from requests->telebot) (2.0.12)\n",
            "Requirement already satisfied: idna<4,>=2.5 in /usr/local/lib/python3.10/dist-packages (from requests->telebot) (3.4)\n"
          ]
        }
      ]
    },
    {
      "cell_type": "code",
      "source": [
        "import telebot\n",
        "from transformers import GPT2LMHeadModel, GPT2Tokenizer"
      ],
      "metadata": {
        "id": "aAHvA-XBktTQ"
      },
      "execution_count": null,
      "outputs": []
    },
    {
      "cell_type": "code",
      "source": [
        "# Initialize the Telegram bot with your API token\n",
        "bot_token = \"6131850133:AAEUSEOyViw6Rqg1aOhpDtwMIBteOlKkOL8\"\n",
        "bot = telebot.TeleBot(bot_token)"
      ],
      "metadata": {
        "id": "TP2r9zsNkvv3"
      },
      "execution_count": null,
      "outputs": []
    },
    {
      "cell_type": "code",
      "source": [
        "# Load the GPT model and tokenizer\n",
        "model_name = \"sberbank-ai/rugpt3large_based_on_gpt2\"\n",
        "model = GPT2LMHeadModel.from_pretrained(model_name)\n",
        "tokenizer = GPT2Tokenizer.from_pretrained(model_name)\n",
        "\n",
        "# Set the pad token id\n",
        "model.config.pad_token_id = model.config.eos_token_id\n",
        "\n",
        "@bot.message_handler(commands=['start'])\n",
        "def start(message):\n",
        "    bot.reply_to(message, \"Добро пожаловать в бот! Пожалуйста, отправьте ваше резюме.\")\n",
        "\n",
        "@bot.message_handler(func=lambda message: True)\n",
        "def handle_message(message):\n",
        "    user_input = message.text\n",
        "\n",
        "    # Tokenize the user input\n",
        "    input_ids = tokenizer.encode(user_input, return_tensors=\"pt\")\n",
        "\n",
        "    # Generate suggestions using the GPT-3.5 Turbo model\n",
        "    output = model.generate(input_ids, max_length=100, num_return_sequences=1, no_repeat_ngram_size=2, early_stopping=True)\n",
        "\n",
        "    suggestions = [tokenizer.decode(ids, skip_special_tokens=True).strip() for ids in output]\n",
        "    response_text = \"\\n\".join(suggestions)\n",
        "    bot.reply_to(message, response_text)\n",
        "\n",
        "bot.polling()"
      ],
      "metadata": {
        "colab": {
          "base_uri": "https://localhost:8080/"
        },
        "id": "vjbUwsJCf7TT",
        "outputId": "22e7b923-51ef-430c-bb57-fd6d10d6b1b6"
      },
      "execution_count": null,
      "outputs": [
        {
          "output_type": "stream",
          "name": "stderr",
          "text": [
            "/usr/local/lib/python3.10/dist-packages/transformers/generation/utils.py:1259: UserWarning: You have modified the pretrained model configuration to control generation. This is a deprecated strategy to control generation and will be removed soon, in a future version. Please use a generation configuration file (see https://huggingface.co/docs/transformers/main_classes/text_generation)\n",
            "  warnings.warn(\n"
          ]
        }
      ]
    }
  ]
}